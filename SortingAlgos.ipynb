{
  "cells": [
    {
      "cell_type": "markdown",
      "metadata": {
        "id": "view-in-github",
        "colab_type": "text"
      },
      "source": [
        "<a href=\"https://colab.research.google.com/github/swastikbanerjee/DAA/blob/main/SortingAlgos.ipynb\" target=\"_parent\"><img src=\"https://colab.research.google.com/assets/colab-badge.svg\" alt=\"Open In Colab\"/></a>"
      ]
    },
    {
      "cell_type": "code",
      "execution_count": 16,
      "metadata": {
        "id": "OMNQxHsH2XF2"
      },
      "outputs": [],
      "source": [
        "import matplotlib.pyplot as plt\n",
        "import pandas as pd\n",
        "import time\n",
        "import random"
      ]
    },
    {
      "cell_type": "markdown",
      "source": [
        "Defining BubbleSort Function"
      ],
      "metadata": {
        "id": "GunSiqgF6ZCb"
      }
    },
    {
      "cell_type": "code",
      "execution_count": 17,
      "metadata": {
        "id": "McGNDZdx2XF5"
      },
      "outputs": [],
      "source": [
        "def bubbleSort(a):\n",
        "    n = len(a)\n",
        "    for i in range(n):\n",
        "        for j in range(0, n-i-1):\n",
        "            if a[j] > a[j+1]:\n",
        "                a[j], a[j+1] = a[j+1], a[j]"
      ]
    },
    {
      "cell_type": "markdown",
      "source": [
        "Defining InsertionSort Function"
      ],
      "metadata": {
        "id": "moqnKlpt6eKU"
      }
    },
    {
      "cell_type": "code",
      "execution_count": 18,
      "metadata": {
        "id": "zcgv1HX12XF6"
      },
      "outputs": [],
      "source": [
        "def insertionSort(a):\n",
        "    for i in range(1, len(a)):\n",
        "        k = a[i]\n",
        "        j = i - 1\n",
        "        while j >= 0 and k < a[j]:\n",
        "            a[j + 1] = a[j]\n",
        "            j -= 1\n",
        "        a[j + 1] = k"
      ]
    },
    {
      "cell_type": "markdown",
      "source": [
        "Defining MergeSort Function"
      ],
      "metadata": {
        "id": "G97tvCpx6hEl"
      }
    },
    {
      "cell_type": "code",
      "execution_count": 20,
      "metadata": {
        "id": "lF3fhX4j2XF7"
      },
      "outputs": [],
      "source": [
        "def mergeSort(a):\n",
        "    if len(a) > 1:\n",
        "        mid = len(a) // 2\n",
        "        lh = a[:mid]\n",
        "        rh = a[mid:]\n",
        "        mergeSort(lh)\n",
        "        mergeSort(rh)\n",
        "        i = j = k = 0\n",
        "        while i < len(lh) and j < len(rh):\n",
        "            if lh[i] < rh[j]:\n",
        "                a[k] = lh[i]\n",
        "                i += 1\n",
        "            else:\n",
        "                a[k] = rh[j]\n",
        "                j += 1\n",
        "            k += 1\n",
        "        while i < len(lh):\n",
        "            a[k] = lh[i]\n",
        "            i += 1\n",
        "            k += 1\n",
        "        while j < len(rh):\n",
        "            a[k] = rh[j]\n",
        "            j += 1\n",
        "            k += 1"
      ]
    },
    {
      "cell_type": "markdown",
      "source": [
        "Defining SelectionSort Function"
      ],
      "metadata": {
        "id": "maC-IvPK6jjO"
      }
    },
    {
      "cell_type": "code",
      "execution_count": 19,
      "metadata": {
        "id": "7rjrgybf2XF7"
      },
      "outputs": [],
      "source": [
        "def selectionSort(a):\n",
        "    for i in range(len(a)):\n",
        "        min = i\n",
        "        for j in range(i+1, len(a)):\n",
        "            if a[j] < a[min]:\n",
        "                min = j\n",
        "        a[i], a[min] = a[min], a[i]"
      ]
    },
    {
      "cell_type": "markdown",
      "source": [
        "Defining QuickSort Function"
      ],
      "metadata": {
        "id": "jtmjXI7P6nbA"
      }
    },
    {
      "cell_type": "code",
      "execution_count": 21,
      "metadata": {
        "id": "l-jh3dtY2XF7"
      },
      "outputs": [],
      "source": [
        "def quickSort(a):\n",
        "    if len(a) <= 1:\n",
        "        return a\n",
        "    else:\n",
        "        p = a.pop()\n",
        "        lp = []\n",
        "        gp = []\n",
        "        for ele in a:\n",
        "            if ele <= p:\n",
        "                lp.append(ele)\n",
        "            else:\n",
        "                gp.append(ele)\n",
        "        return quickSort(lp) + [p] + quickSort(gp)"
      ]
    },
    {
      "cell_type": "code",
      "execution_count": 22,
      "metadata": {
        "id": "Tjn4NUmy2XF8"
      },
      "outputs": [],
      "source": [
        "def RandArr(s):\n",
        "    return [random.randint(1,9999) for i in range(s)]"
      ]
    },
    {
      "cell_type": "code",
      "execution_count": 23,
      "metadata": {
        "id": "Keuz6eVa2XF8"
      },
      "outputs": [],
      "source": [
        "def execTime(sortF, ipData):\n",
        "    startTime = time.time()\n",
        "    sortF(ipData.copy())\n",
        "    endTime = time.time()\n",
        "    return endTime - startTime"
      ]
    },
    {
      "cell_type": "code",
      "execution_count": 24,
      "metadata": {
        "id": "5EHfGeNu2XF9"
      },
      "outputs": [],
      "source": [
        "arrayLen = []\n",
        "for i in range(100, 2100, 100):\n",
        "    arrayLen.append(i)"
      ]
    },
    {
      "cell_type": "code",
      "execution_count": 25,
      "metadata": {
        "id": "0fs7Gx-Z2XF9"
      },
      "outputs": [],
      "source": [
        "sortF = {\n",
        "    'BubbleSort': bubbleSort,\n",
        "    'InsertionSort': insertionSort,\n",
        "    'MergeSort': mergeSort,\n",
        "    'SelectionSort': selectionSort,\n",
        "    'QuickSort': quickSort\n",
        "}"
      ]
    },
    {
      "cell_type": "code",
      "execution_count": 26,
      "metadata": {
        "id": "qOo4KgbC2XF-"
      },
      "outputs": [],
      "source": [
        "exec_Times = {alg: [] for alg in sortF.keys()}\n",
        "for i in arrayLen:\n",
        "    ipData = RandArr(i)\n",
        "    for alg, sf in sortF.items():\n",
        "        exec_Time = execTime(sf, ipData)\n",
        "        exec_Times[alg].append(exec_Time)"
      ]
    },
    {
      "cell_type": "code",
      "execution_count": 28,
      "metadata": {
        "id": "89Zp8oYN2XF-"
      },
      "outputs": [],
      "source": [
        "def _round(a):\n",
        "    c = -1\n",
        "    for i in range(len(a)):\n",
        "        a[i] = round(a[i],4)\n",
        "    return a[::-1]"
      ]
    },
    {
      "cell_type": "code",
      "execution_count": 29,
      "metadata": {
        "id": "ddP2pzxf2XF_"
      },
      "outputs": [],
      "source": [
        "df = pd.DataFrame()\n",
        "times = []\n",
        "for a in exec_Times.keys():\n",
        "    tdf = pd.DataFrame([[a,_round(exec_Times[a])]],columns=['Sorting Algorithm used','Execution time'])\n",
        "    df = pd.concat([df,tdf])"
      ]
    },
    {
      "cell_type": "markdown",
      "source": [
        "Execution Times of all sorting algorithms in tabular form"
      ],
      "metadata": {
        "id": "gu7IYun83ZNI"
      }
    },
    {
      "cell_type": "code",
      "execution_count": 30,
      "metadata": {
        "colab": {
          "base_uri": "https://localhost:8080/",
          "height": 206
        },
        "id": "P1PniPv12XF_",
        "outputId": "2d057b9d-ad4f-4e6c-96dc-84e88d67f986"
      },
      "outputs": [
        {
          "output_type": "execute_result",
          "data": {
            "text/plain": [
              "  Sorting Algorithm used                                     Execution time\n",
              "0             BubbleSort  [0.3815, 0.3444, 0.3003, 0.2673, 0.2376, 0.217...\n",
              "0          InsertionSort  [0.1923, 0.1635, 0.1465, 0.141, 0.1116, 0.1012...\n",
              "0              MergeSort  [0.0074, 0.007, 0.0064, 0.006, 0.0056, 0.0052,...\n",
              "0          SelectionSort  [0.1676, 0.1552, 0.1346, 0.1205, 0.1078, 0.095...\n",
              "0              QuickSort  [0.0034, 0.0031, 0.003, 0.0027, 0.0026, 0.0023..."
            ],
            "text/html": [
              "\n",
              "  <div id=\"df-39bf7522-a45b-4de5-badc-7b4ff94c5542\" class=\"colab-df-container\">\n",
              "    <div>\n",
              "<style scoped>\n",
              "    .dataframe tbody tr th:only-of-type {\n",
              "        vertical-align: middle;\n",
              "    }\n",
              "\n",
              "    .dataframe tbody tr th {\n",
              "        vertical-align: top;\n",
              "    }\n",
              "\n",
              "    .dataframe thead th {\n",
              "        text-align: right;\n",
              "    }\n",
              "</style>\n",
              "<table border=\"1\" class=\"dataframe\">\n",
              "  <thead>\n",
              "    <tr style=\"text-align: right;\">\n",
              "      <th></th>\n",
              "      <th>Sorting Algorithm used</th>\n",
              "      <th>Execution time</th>\n",
              "    </tr>\n",
              "  </thead>\n",
              "  <tbody>\n",
              "    <tr>\n",
              "      <th>0</th>\n",
              "      <td>BubbleSort</td>\n",
              "      <td>[0.3815, 0.3444, 0.3003, 0.2673, 0.2376, 0.217...</td>\n",
              "    </tr>\n",
              "    <tr>\n",
              "      <th>0</th>\n",
              "      <td>InsertionSort</td>\n",
              "      <td>[0.1923, 0.1635, 0.1465, 0.141, 0.1116, 0.1012...</td>\n",
              "    </tr>\n",
              "    <tr>\n",
              "      <th>0</th>\n",
              "      <td>MergeSort</td>\n",
              "      <td>[0.0074, 0.007, 0.0064, 0.006, 0.0056, 0.0052,...</td>\n",
              "    </tr>\n",
              "    <tr>\n",
              "      <th>0</th>\n",
              "      <td>SelectionSort</td>\n",
              "      <td>[0.1676, 0.1552, 0.1346, 0.1205, 0.1078, 0.095...</td>\n",
              "    </tr>\n",
              "    <tr>\n",
              "      <th>0</th>\n",
              "      <td>QuickSort</td>\n",
              "      <td>[0.0034, 0.0031, 0.003, 0.0027, 0.0026, 0.0023...</td>\n",
              "    </tr>\n",
              "  </tbody>\n",
              "</table>\n",
              "</div>\n",
              "    <div class=\"colab-df-buttons\">\n",
              "\n",
              "  <div class=\"colab-df-container\">\n",
              "    <button class=\"colab-df-convert\" onclick=\"convertToInteractive('df-39bf7522-a45b-4de5-badc-7b4ff94c5542')\"\n",
              "            title=\"Convert this dataframe to an interactive table.\"\n",
              "            style=\"display:none;\">\n",
              "\n",
              "  <svg xmlns=\"http://www.w3.org/2000/svg\" height=\"24px\" viewBox=\"0 -960 960 960\">\n",
              "    <path d=\"M120-120v-720h720v720H120Zm60-500h600v-160H180v160Zm220 220h160v-160H400v160Zm0 220h160v-160H400v160ZM180-400h160v-160H180v160Zm440 0h160v-160H620v160ZM180-180h160v-160H180v160Zm440 0h160v-160H620v160Z\"/>\n",
              "  </svg>\n",
              "    </button>\n",
              "\n",
              "  <style>\n",
              "    .colab-df-container {\n",
              "      display:flex;\n",
              "      gap: 12px;\n",
              "    }\n",
              "\n",
              "    .colab-df-convert {\n",
              "      background-color: #E8F0FE;\n",
              "      border: none;\n",
              "      border-radius: 50%;\n",
              "      cursor: pointer;\n",
              "      display: none;\n",
              "      fill: #1967D2;\n",
              "      height: 32px;\n",
              "      padding: 0 0 0 0;\n",
              "      width: 32px;\n",
              "    }\n",
              "\n",
              "    .colab-df-convert:hover {\n",
              "      background-color: #E2EBFA;\n",
              "      box-shadow: 0px 1px 2px rgba(60, 64, 67, 0.3), 0px 1px 3px 1px rgba(60, 64, 67, 0.15);\n",
              "      fill: #174EA6;\n",
              "    }\n",
              "\n",
              "    .colab-df-buttons div {\n",
              "      margin-bottom: 4px;\n",
              "    }\n",
              "\n",
              "    [theme=dark] .colab-df-convert {\n",
              "      background-color: #3B4455;\n",
              "      fill: #D2E3FC;\n",
              "    }\n",
              "\n",
              "    [theme=dark] .colab-df-convert:hover {\n",
              "      background-color: #434B5C;\n",
              "      box-shadow: 0px 1px 3px 1px rgba(0, 0, 0, 0.15);\n",
              "      filter: drop-shadow(0px 1px 2px rgba(0, 0, 0, 0.3));\n",
              "      fill: #FFFFFF;\n",
              "    }\n",
              "  </style>\n",
              "\n",
              "    <script>\n",
              "      const buttonEl =\n",
              "        document.querySelector('#df-39bf7522-a45b-4de5-badc-7b4ff94c5542 button.colab-df-convert');\n",
              "      buttonEl.style.display =\n",
              "        google.colab.kernel.accessAllowed ? 'block' : 'none';\n",
              "\n",
              "      async function convertToInteractive(key) {\n",
              "        const element = document.querySelector('#df-39bf7522-a45b-4de5-badc-7b4ff94c5542');\n",
              "        const dataTable =\n",
              "          await google.colab.kernel.invokeFunction('convertToInteractive',\n",
              "                                                    [key], {});\n",
              "        if (!dataTable) return;\n",
              "\n",
              "        const docLinkHtml = 'Like what you see? Visit the ' +\n",
              "          '<a target=\"_blank\" href=https://colab.research.google.com/notebooks/data_table.ipynb>data table notebook</a>'\n",
              "          + ' to learn more about interactive tables.';\n",
              "        element.innerHTML = '';\n",
              "        dataTable['output_type'] = 'display_data';\n",
              "        await google.colab.output.renderOutput(dataTable, element);\n",
              "        const docLink = document.createElement('div');\n",
              "        docLink.innerHTML = docLinkHtml;\n",
              "        element.appendChild(docLink);\n",
              "      }\n",
              "    </script>\n",
              "  </div>\n",
              "\n",
              "\n",
              "<div id=\"df-b8658ade-03a2-4ae1-a246-dfe6dd482f62\">\n",
              "  <button class=\"colab-df-quickchart\" onclick=\"quickchart('df-b8658ade-03a2-4ae1-a246-dfe6dd482f62')\"\n",
              "            title=\"Suggest charts\"\n",
              "            style=\"display:none;\">\n",
              "\n",
              "<svg xmlns=\"http://www.w3.org/2000/svg\" height=\"24px\"viewBox=\"0 0 24 24\"\n",
              "     width=\"24px\">\n",
              "    <g>\n",
              "        <path d=\"M19 3H5c-1.1 0-2 .9-2 2v14c0 1.1.9 2 2 2h14c1.1 0 2-.9 2-2V5c0-1.1-.9-2-2-2zM9 17H7v-7h2v7zm4 0h-2V7h2v10zm4 0h-2v-4h2v4z\"/>\n",
              "    </g>\n",
              "</svg>\n",
              "  </button>\n",
              "\n",
              "<style>\n",
              "  .colab-df-quickchart {\n",
              "      --bg-color: #E8F0FE;\n",
              "      --fill-color: #1967D2;\n",
              "      --hover-bg-color: #E2EBFA;\n",
              "      --hover-fill-color: #174EA6;\n",
              "      --disabled-fill-color: #AAA;\n",
              "      --disabled-bg-color: #DDD;\n",
              "  }\n",
              "\n",
              "  [theme=dark] .colab-df-quickchart {\n",
              "      --bg-color: #3B4455;\n",
              "      --fill-color: #D2E3FC;\n",
              "      --hover-bg-color: #434B5C;\n",
              "      --hover-fill-color: #FFFFFF;\n",
              "      --disabled-bg-color: #3B4455;\n",
              "      --disabled-fill-color: #666;\n",
              "  }\n",
              "\n",
              "  .colab-df-quickchart {\n",
              "    background-color: var(--bg-color);\n",
              "    border: none;\n",
              "    border-radius: 50%;\n",
              "    cursor: pointer;\n",
              "    display: none;\n",
              "    fill: var(--fill-color);\n",
              "    height: 32px;\n",
              "    padding: 0;\n",
              "    width: 32px;\n",
              "  }\n",
              "\n",
              "  .colab-df-quickchart:hover {\n",
              "    background-color: var(--hover-bg-color);\n",
              "    box-shadow: 0 1px 2px rgba(60, 64, 67, 0.3), 0 1px 3px 1px rgba(60, 64, 67, 0.15);\n",
              "    fill: var(--button-hover-fill-color);\n",
              "  }\n",
              "\n",
              "  .colab-df-quickchart-complete:disabled,\n",
              "  .colab-df-quickchart-complete:disabled:hover {\n",
              "    background-color: var(--disabled-bg-color);\n",
              "    fill: var(--disabled-fill-color);\n",
              "    box-shadow: none;\n",
              "  }\n",
              "\n",
              "  .colab-df-spinner {\n",
              "    border: 2px solid var(--fill-color);\n",
              "    border-color: transparent;\n",
              "    border-bottom-color: var(--fill-color);\n",
              "    animation:\n",
              "      spin 1s steps(1) infinite;\n",
              "  }\n",
              "\n",
              "  @keyframes spin {\n",
              "    0% {\n",
              "      border-color: transparent;\n",
              "      border-bottom-color: var(--fill-color);\n",
              "      border-left-color: var(--fill-color);\n",
              "    }\n",
              "    20% {\n",
              "      border-color: transparent;\n",
              "      border-left-color: var(--fill-color);\n",
              "      border-top-color: var(--fill-color);\n",
              "    }\n",
              "    30% {\n",
              "      border-color: transparent;\n",
              "      border-left-color: var(--fill-color);\n",
              "      border-top-color: var(--fill-color);\n",
              "      border-right-color: var(--fill-color);\n",
              "    }\n",
              "    40% {\n",
              "      border-color: transparent;\n",
              "      border-right-color: var(--fill-color);\n",
              "      border-top-color: var(--fill-color);\n",
              "    }\n",
              "    60% {\n",
              "      border-color: transparent;\n",
              "      border-right-color: var(--fill-color);\n",
              "    }\n",
              "    80% {\n",
              "      border-color: transparent;\n",
              "      border-right-color: var(--fill-color);\n",
              "      border-bottom-color: var(--fill-color);\n",
              "    }\n",
              "    90% {\n",
              "      border-color: transparent;\n",
              "      border-bottom-color: var(--fill-color);\n",
              "    }\n",
              "  }\n",
              "</style>\n",
              "\n",
              "  <script>\n",
              "    async function quickchart(key) {\n",
              "      const quickchartButtonEl =\n",
              "        document.querySelector('#' + key + ' button');\n",
              "      quickchartButtonEl.disabled = true;  // To prevent multiple clicks.\n",
              "      quickchartButtonEl.classList.add('colab-df-spinner');\n",
              "      try {\n",
              "        const charts = await google.colab.kernel.invokeFunction(\n",
              "            'suggestCharts', [key], {});\n",
              "      } catch (error) {\n",
              "        console.error('Error during call to suggestCharts:', error);\n",
              "      }\n",
              "      quickchartButtonEl.classList.remove('colab-df-spinner');\n",
              "      quickchartButtonEl.classList.add('colab-df-quickchart-complete');\n",
              "    }\n",
              "    (() => {\n",
              "      let quickchartButtonEl =\n",
              "        document.querySelector('#df-b8658ade-03a2-4ae1-a246-dfe6dd482f62 button');\n",
              "      quickchartButtonEl.style.display =\n",
              "        google.colab.kernel.accessAllowed ? 'block' : 'none';\n",
              "    })();\n",
              "  </script>\n",
              "</div>\n",
              "    </div>\n",
              "  </div>\n"
            ]
          },
          "metadata": {},
          "execution_count": 30
        }
      ],
      "source": [
        "df"
      ]
    },
    {
      "cell_type": "markdown",
      "source": [
        "The array of values for each sorting algorithms contain the execution times for array input size of 100 to 2000 with step of 100 in the reverse order."
      ],
      "metadata": {
        "id": "JL7fdY2N3mQO"
      }
    },
    {
      "cell_type": "markdown",
      "source": [
        "Graphical Representation of Time Complexity of all sorting algorithms"
      ],
      "metadata": {
        "id": "cBGsckgO3ILJ"
      }
    },
    {
      "cell_type": "code",
      "execution_count": 27,
      "metadata": {
        "colab": {
          "base_uri": "https://localhost:8080/",
          "height": 889
        },
        "id": "zzwiWYVm2XF-",
        "outputId": "9b0baa1d-23b8-4bfa-9974-78b5a6e69cf0"
      },
      "outputs": [
        {
          "output_type": "display_data",
          "data": {
            "text/plain": [
              "<Figure size 1000x1000 with 1 Axes>"
            ],
            "image/png": "[encoded data removed]"
          },
          "metadata": {}
        },
        {
          "output_type": "display_data",
          "data": {
            "text/plain": [
              "<Figure size 640x480 with 0 Axes>"
            ]
          },
          "metadata": {}
        }
      ],
      "source": [
        "plt.figure(figsize=(10, 10))\n",
        "for alg, t in exec_Times.items():\n",
        "    plt.plot(arrayLen, t, label=alg)\n",
        "plt.title('Time complexity of sorting algorithms')\n",
        "plt.xlabel('Number of inputs')\n",
        "plt.ylabel('Execution Time in seconds')\n",
        "plt.legend()\n",
        "plt.show()\n",
        "plt.tight_layout();"
      ]
    },
    {
      "cell_type": "markdown",
      "source": [
        "The nature of curve for Bubble Sort, Selection Sort and Insertion Sort with a time complexity of O(n^2) has been shown in the graph. For Merge and Quick Sort with a time complexity of 0(nlogn) we got a more low sloped curve that is almost equal to 0 second considering smaller number of inputs."
      ],
      "metadata": {
        "id": "UA7Qz9Pv4bQc"
      }
    },
    {
      "cell_type": "markdown",
      "source": [
        "We can infer from the execution time table and the time complexity graph that Quick Sort was the fastest performing sorting algorithm while Bubble Sort was the slowest."
      ],
      "metadata": {
        "id": "UbUdo4oj5_i3"
      }
    }
  ],
  "metadata": {
    "kernelspec": {
      "display_name": "Python 3",
      "language": "python",
      "name": "python3"
    },
    "language_info": {
      "codemirror_mode": {
        "name": "ipython",
        "version": 3
      },
      "file_extension": ".py",
      "mimetype": "text/x-python",
      "name": "python",
      "nbconvert_exporter": "python",
      "pygments_lexer": "ipython3",
      "version": "3.11.5"
    },
    "colab": {
      "provenance": [],
      "include_colab_link": true
    }
  },
  "nbformat": 4,
  "nbformat_minor": 0
}